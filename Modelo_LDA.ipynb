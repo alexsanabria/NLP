{
 "cells": [
  {
   "cell_type": "markdown",
   "metadata": {
    "id": "9AjOoZ0DyS9v"
   },
   "source": [
    "\n",
    "# Procesamiento de Lenguaje Natural\n",
    "\n",
    "## Modelado de temas por LDA para ver el porcentaje de pertenencia de una obsrvación a una categoria\n"
   ]
  },
  {
   "cell_type": "code",
   "execution_count": null,
   "metadata": {
    "id": "3OmpY4lab1Xf"
   },
   "outputs": [],
   "source": [
    "#! pip install pyLDAvis\n",
    "!pip install -U pandas-profiling"
   ]
  },
  {
   "cell_type": "code",
   "execution_count": null,
   "metadata": {
    "id": "bBy0nkd9bgKL"
   },
   "outputs": [],
   "source": [
    "import re\n",
    "import pandas as pd \n",
    "from pprint import pprint\n",
    "\n",
    "from nltk.corpus import stopwords\n",
    "import nltk\n",
    "import pyLDAvis.gensim_models\n",
    "from gensim.models import LdaModel\n",
    "from gensim.corpora import Dictionary\n",
    "\n",
    "import warnings\n",
    "warnings.filterwarnings(\"ignore\", category=DeprecationWarning)"
   ]
  },
  {
   "cell_type": "code",
   "execution_count": 2,
   "metadata": {
    "colab": {
     "base_uri": "https://localhost:8080/"
    },
    "id": "qMg2vstkbzfa",
    "outputId": "9d1aba46-5e03-488d-a546-8aab0f2b1114"
   },
   "outputs": [
    {
     "name": "stdout",
     "output_type": "stream",
     "text": [
      "[nltk_data] Downloading package stopwords to /root/nltk_data...\n",
      "[nltk_data]   Package stopwords is already up-to-date!\n"
     ]
    }
   ],
   "source": [
    "nltk.download('stopwords')\n",
    "stopwords = stopwords.words('spanish')"
   ]
  },
  {
   "cell_type": "code",
   "execution_count": 3,
   "metadata": {
    "colab": {
     "base_uri": "https://localhost:8080/",
     "height": 487
    },
    "id": "yYRs27xhcvaf",
    "outputId": "abbdefec-9b13-4dae-f79f-f1d2a69f6089"
   },
   "outputs": [
    {
     "data": {
      "text/html": [
       "<div>\n",
       "<style scoped>\n",
       "    .dataframe tbody tr th:only-of-type {\n",
       "        vertical-align: middle;\n",
       "    }\n",
       "\n",
       "    .dataframe tbody tr th {\n",
       "        vertical-align: top;\n",
       "    }\n",
       "\n",
       "    .dataframe thead th {\n",
       "        text-align: right;\n",
       "    }\n",
       "</style>\n",
       "<table border=\"1\" class=\"dataframe\">\n",
       "  <thead>\n",
       "    <tr style=\"text-align: right;\">\n",
       "      <th></th>\n",
       "      <th>review_id</th>\n",
       "      <th>product_id</th>\n",
       "      <th>reviewer_id</th>\n",
       "      <th>stars</th>\n",
       "      <th>review_body</th>\n",
       "      <th>review_title</th>\n",
       "      <th>language</th>\n",
       "      <th>product_category</th>\n",
       "    </tr>\n",
       "  </thead>\n",
       "  <tbody>\n",
       "    <tr>\n",
       "      <th>0</th>\n",
       "      <td>es_0825565</td>\n",
       "      <td>product_es_0370490</td>\n",
       "      <td>reviewer_es_0174781</td>\n",
       "      <td>3</td>\n",
       "      <td>Buen. Buena calidad, y buena presentación.</td>\n",
       "      <td>Contenta</td>\n",
       "      <td>es</td>\n",
       "      <td>jewelry</td>\n",
       "    </tr>\n",
       "    <tr>\n",
       "      <th>1</th>\n",
       "      <td>es_0227934</td>\n",
       "      <td>product_es_0354224</td>\n",
       "      <td>reviewer_es_0411613</td>\n",
       "      <td>3</td>\n",
       "      <td>Un producto a perfecto, para salir de casa con...</td>\n",
       "      <td>Versatilidad</td>\n",
       "      <td>es</td>\n",
       "      <td>video_games</td>\n",
       "    </tr>\n",
       "    <tr>\n",
       "      <th>2</th>\n",
       "      <td>es_0468601</td>\n",
       "      <td>product_es_0665460</td>\n",
       "      <td>reviewer_es_0348315</td>\n",
       "      <td>1</td>\n",
       "      <td>No funciona con Nintendo Switch. No hay forma ...</td>\n",
       "      <td>Decepción absoluta</td>\n",
       "      <td>es</td>\n",
       "      <td>video_games</td>\n",
       "    </tr>\n",
       "    <tr>\n",
       "      <th>3</th>\n",
       "      <td>es_0814494</td>\n",
       "      <td>product_es_0692692</td>\n",
       "      <td>reviewer_es_0951508</td>\n",
       "      <td>5</td>\n",
       "      <td>Recomendado, los utilizo para pc y no me dan n...</td>\n",
       "      <td>Auriculares Pecham ps4</td>\n",
       "      <td>es</td>\n",
       "      <td>video_games</td>\n",
       "    </tr>\n",
       "    <tr>\n",
       "      <th>4</th>\n",
       "      <td>es_0206329</td>\n",
       "      <td>product_es_0728826</td>\n",
       "      <td>reviewer_es_0493255</td>\n",
       "      <td>4</td>\n",
       "      <td>El cable funciona bien podria ser un poco mas ...</td>\n",
       "      <td>Perfecto</td>\n",
       "      <td>es</td>\n",
       "      <td>video_games</td>\n",
       "    </tr>\n",
       "  </tbody>\n",
       "</table>\n",
       "</div>"
      ],
      "text/plain": [
       "    review_id          product_id  ... language  product_category\n",
       "0  es_0825565  product_es_0370490  ...       es           jewelry\n",
       "1  es_0227934  product_es_0354224  ...       es       video_games\n",
       "2  es_0468601  product_es_0665460  ...       es       video_games\n",
       "3  es_0814494  product_es_0692692  ...       es       video_games\n",
       "4  es_0206329  product_es_0728826  ...       es       video_games\n",
       "\n",
       "[5 rows x 8 columns]"
      ]
     },
     "execution_count": 3,
     "metadata": {
      "tags": []
     },
     "output_type": "execute_result"
    }
   ],
   "source": [
    "data = pd.read_csv('reviews_vidjew_es.csv')\n",
    "data.head()"
   ]
  },
  {
   "cell_type": "markdown",
   "metadata": {
    "id": "rkI1nDWmyjFI"
   },
   "source": [
    "### Hacer pre-procesamiento del texto"
   ]
  },
  {
   "cell_type": "code",
   "execution_count": 4,
   "metadata": {
    "colab": {
     "base_uri": "https://localhost:8080/",
     "height": 504
    },
    "id": "725e5nkEdSdQ",
    "outputId": "0ccb78b6-6062-4780-be26-f7d1c2b40e29"
   },
   "outputs": [
    {
     "data": {
      "text/html": [
       "<div>\n",
       "<style scoped>\n",
       "    .dataframe tbody tr th:only-of-type {\n",
       "        vertical-align: middle;\n",
       "    }\n",
       "\n",
       "    .dataframe tbody tr th {\n",
       "        vertical-align: top;\n",
       "    }\n",
       "\n",
       "    .dataframe thead th {\n",
       "        text-align: right;\n",
       "    }\n",
       "</style>\n",
       "<table border=\"1\" class=\"dataframe\">\n",
       "  <thead>\n",
       "    <tr style=\"text-align: right;\">\n",
       "      <th></th>\n",
       "      <th>review_id</th>\n",
       "      <th>product_id</th>\n",
       "      <th>reviewer_id</th>\n",
       "      <th>stars</th>\n",
       "      <th>review_body</th>\n",
       "      <th>review_title</th>\n",
       "      <th>language</th>\n",
       "      <th>product_category</th>\n",
       "      <th>Pre-Processed</th>\n",
       "    </tr>\n",
       "  </thead>\n",
       "  <tbody>\n",
       "    <tr>\n",
       "      <th>0</th>\n",
       "      <td>es_0825565</td>\n",
       "      <td>product_es_0370490</td>\n",
       "      <td>reviewer_es_0174781</td>\n",
       "      <td>3</td>\n",
       "      <td>Buen. Buena calidad, y buena presentación.</td>\n",
       "      <td>Contenta</td>\n",
       "      <td>es</td>\n",
       "      <td>jewelry</td>\n",
       "      <td>[buen, buena, calidad, buena, presentación]</td>\n",
       "    </tr>\n",
       "    <tr>\n",
       "      <th>1</th>\n",
       "      <td>es_0227934</td>\n",
       "      <td>product_es_0354224</td>\n",
       "      <td>reviewer_es_0411613</td>\n",
       "      <td>3</td>\n",
       "      <td>Un producto a perfecto, para salir de casa con...</td>\n",
       "      <td>Versatilidad</td>\n",
       "      <td>es</td>\n",
       "      <td>video_games</td>\n",
       "      <td>[producto, perfecto, salir, casa, nintendo, sw...</td>\n",
       "    </tr>\n",
       "    <tr>\n",
       "      <th>2</th>\n",
       "      <td>es_0468601</td>\n",
       "      <td>product_es_0665460</td>\n",
       "      <td>reviewer_es_0348315</td>\n",
       "      <td>1</td>\n",
       "      <td>No funciona con Nintendo Switch. No hay forma ...</td>\n",
       "      <td>Decepción absoluta</td>\n",
       "      <td>es</td>\n",
       "      <td>video_games</td>\n",
       "      <td>[funciona, nintendo, switch, forma, emparejarl...</td>\n",
       "    </tr>\n",
       "    <tr>\n",
       "      <th>3</th>\n",
       "      <td>es_0814494</td>\n",
       "      <td>product_es_0692692</td>\n",
       "      <td>reviewer_es_0951508</td>\n",
       "      <td>5</td>\n",
       "      <td>Recomendado, los utilizo para pc y no me dan n...</td>\n",
       "      <td>Auriculares Pecham ps4</td>\n",
       "      <td>es</td>\n",
       "      <td>video_games</td>\n",
       "      <td>[recomendado, utilizo, pc, dan, ningún, proble...</td>\n",
       "    </tr>\n",
       "    <tr>\n",
       "      <th>4</th>\n",
       "      <td>es_0206329</td>\n",
       "      <td>product_es_0728826</td>\n",
       "      <td>reviewer_es_0493255</td>\n",
       "      <td>4</td>\n",
       "      <td>El cable funciona bien podria ser un poco mas ...</td>\n",
       "      <td>Perfecto</td>\n",
       "      <td>es</td>\n",
       "      <td>video_games</td>\n",
       "      <td>[cable, funciona, bien, podria, ser, mas, larg...</td>\n",
       "    </tr>\n",
       "  </tbody>\n",
       "</table>\n",
       "</div>"
      ],
      "text/plain": [
       "    review_id  ...                                      Pre-Processed\n",
       "0  es_0825565  ...        [buen, buena, calidad, buena, presentación]\n",
       "1  es_0227934  ...  [producto, perfecto, salir, casa, nintendo, sw...\n",
       "2  es_0468601  ...  [funciona, nintendo, switch, forma, emparejarl...\n",
       "3  es_0814494  ...  [recomendado, utilizo, pc, dan, ningún, proble...\n",
       "4  es_0206329  ...  [cable, funciona, bien, podria, ser, mas, larg...\n",
       "\n",
       "[5 rows x 9 columns]"
      ]
     },
     "execution_count": 4,
     "metadata": {
      "tags": []
     },
     "output_type": "execute_result"
    }
   ],
   "source": [
    "\n",
    "def pre_procesado(texto):\n",
    "    texto = texto.lower()\n",
    "    texto = re.sub(r\"[\\W\\d]+\", \" \", texto)\n",
    "    texto = [palabra for palabra in texto.split() if palabra not in stopwords]\n",
    "    return texto \n",
    "\n",
    "data['Pre-Processed'] = data['review_body'].apply(lambda texto: pre_procesado(texto))\n",
    "\n",
    "data.head()"
   ]
  },
  {
   "cell_type": "markdown",
   "metadata": {
    "id": "WIs45cphzJ5i"
   },
   "source": [
    "### Modelo de LDA"
   ]
  },
  {
   "cell_type": "code",
   "execution_count": 5,
   "metadata": {
    "id": "BjdNWl8VdjS1"
   },
   "outputs": [],
   "source": [
    "dictionary = Dictionary(data['Pre-Processed'].values)\n",
    "dictionary.filter_extremes(no_below=5, no_above=0.5) \n",
    "corpus = [dictionary.doc2bow(text) for text in data['Pre-Processed'].values]\n",
    "model = LdaModel(corpus = corpus, id2word = dictionary, num_topics = 2, passes=50)"
   ]
  },
  {
   "cell_type": "code",
   "execution_count": 6,
   "metadata": {
    "colab": {
     "base_uri": "https://localhost:8080/"
    },
    "id": "rYQNcuQhd1vF",
    "outputId": "6cc70425-7285-40bf-8642-36e05132da46"
   },
   "outputs": [
    {
     "data": {
      "text/plain": [
       "[(0,\n",
       "  '0.029*\"producto\" + 0.018*\"bien\" + 0.015*\"precio\" + 0.015*\"llegado\" + 0.015*\"foto\" + 0.015*\"puede\" + 0.014*\"día\" + 0.013*\"regalo\" + 0.013*\"llegó\" + 0.012*\"caja\"'),\n",
       " (1,\n",
       "  '0.029*\"bien\" + 0.029*\"calidad\" + 0.024*\"juego\" + 0.019*\"si\" + 0.015*\"precio\" + 0.015*\"buena\" + 0.012*\"mando\" + 0.011*\"mas\" + 0.010*\"perfecto\" + 0.009*\"bonitos\"')]"
      ]
     },
     "execution_count": 6,
     "metadata": {
      "tags": []
     },
     "output_type": "execute_result"
    }
   ],
   "source": [
    "model.print_topics(num_words=10)"
   ]
  },
  {
   "cell_type": "markdown",
   "metadata": {
    "id": "44bYg4QazQXQ"
   },
   "source": [
    "###  Punto 3: Visualización de LDA"
   ]
  },
  {
   "cell_type": "code",
   "execution_count": 7,
   "metadata": {
    "colab": {
     "base_uri": "https://localhost:8080/",
     "height": 881
    },
    "id": "GNzOoljZeKj6",
    "outputId": "6f24c4a4-fbe0-4ea5-d17a-7ec486614936"
   },
   "outputs": [
    {
     "data": {
      "text/html": [
       "\n",
       "<link rel=\"stylesheet\" type=\"text/css\" href=\"https://cdn.jsdelivr.net/gh/bmabey/pyLDAvis@3.3.1/pyLDAvis/js/ldavis.v1.0.0.css\">\n",
       "\n",
       "\n",
       "<div id=\"ldavis_el1991403639641643047355980380\"></div>\n",
       "<script type=\"text/javascript\">\n",
       "\n",
       "var ldavis_el1991403639641643047355980380_data = {\"mdsDat\": {\"x\": [0.13653172587888565, -0.13653172587888565], \"y\": [0.0, 0.0], \"topics\": [1, 2], \"cluster\": [1, 1], \"Freq\": [55.753836826930126, 44.246163173069874]}, \"tinfo\": {\"Term\": [\"producto\", \"llegado\", \"d\\u00eda\", \"puede\", \"lleg\\u00f3\", \"foto\", \"tiempo\", \"pulsera\", \"buena\", \"llego\", \"calidad\", \"mando\", \"caja\", \"juego\", \"amazon\", \"bonitos\", \"bonita\", \"pedido\", \"tan\", \"mejor\", \"plata\", \"dos\", \"verdad\", \"jugar\", \"nunca\", \"parece\", \"pedir\", \"parte\", \"ps\", \"gracias\", \"bonitos\", \"ps\", \"grandes\", \"quedan\", \"cumple\", \"colgante\", \"peque\\u00f1os\", \"mala\", \"parte\", \"plata\", \"juegos\", \"jugar\", \"cable\", \"mejor\", \"dise\\u00f1o\", \"espa\\u00f1ol\", \"da\", \"botones\", \"poner\", \"mando\", \"gran\", \"hijo\", \"funda\", \"gusta\", \"uso\", \"correcto\", \"puedes\", \"versi\\u00f3n\", \"buena\", \"trae\", \"dos\", \"switch\", \"problema\", \"calidad\", \"juego\", \"tama\\u00f1o\", \"momento\", \"bien\", \"original\", \"si\", \"perfecto\", \"mas\", \"precio\", \"as\\u00ed\", \"bastante\", \"compra\", \"bonito\", \"buen\", \"gustado\", \"demasiado\", \"aunque\", \"funciona\", \"viene\", \"recomiendo\", \"d\\u00eda\", \"llegado\", \"lleg\\u00f3\", \"pulsera\", \"llego\", \"bonita\", \"nunca\", \"tan\", \"pedido\", \"pedir\", \"entregado\", \"recibido\", \"tiempo\", \"dem\\u00e1s\", \"llegar\", \"puede\", \"ped\\u00ed\", \"todav\\u00eda\", \"fina\", \"rota\", \"dinero\", \"paquete\", \"casa\", \"deja\", \"gracias\", \"verdad\", \"esperando\", \"devuelto\", \"encant\\u00f3\", \"pandora\", \"vendedor\", \"collar\", \"aun\", \"producto\", \"foto\", \"amazon\", \"va\", \"caja\", \"comprar\", \"cosa\", \"esperaba\", \"parece\", \"cadena\", \"env\\u00edo\", \"regalo\", \"precio\", \"entrega\", \"bien\", \"sido\", \"si\", \"bonito\", \"queda\", \"buen\", \"solo\", \"ser\"], \"Freq\": [105.0, 50.0, 49.0, 50.0, 43.0, 52.0, 42.0, 37.0, 65.0, 33.0, 143.0, 52.0, 47.0, 116.0, 34.0, 39.0, 26.0, 24.0, 23.0, 35.0, 34.0, 39.0, 23.0, 33.0, 20.0, 48.0, 20.0, 30.0, 28.0, 21.0, 38.65565325685954, 28.431037616464085, 23.740076476504992, 21.905831896045154, 23.69888023927157, 24.60573196406071, 20.957642447231866, 23.687826583746002, 30.059760842826673, 33.68707734764472, 22.73378115387206, 32.70921104447638, 21.7993395048911, 34.49800888869803, 19.05766153172469, 17.206843345806607, 18.08821369260463, 16.273085549647497, 18.981885529818662, 50.54844728728734, 18.050601787402965, 15.311473524111118, 13.49153876045789, 21.577580576463586, 22.422311739746192, 17.037857025226046, 13.435763488496614, 13.435137605957078, 62.65685146602896, 16.098230474893228, 37.532366044144, 19.5714138245156, 22.822904076370023, 123.35632750687337, 101.17181969064202, 31.403800855680114, 20.295486231722585, 124.22177076424299, 28.089466887610996, 80.10204699666448, 43.02058363381376, 44.738921056253226, 64.97140636421587, 31.13095144013985, 37.714329847585155, 27.561473556314525, 37.85127334025462, 36.939445996658236, 26.640402409057295, 24.425012065321365, 27.787170533750615, 25.160694249745248, 24.85408254876769, 23.969888361438066, 48.54044108403831, 50.336877512623886, 42.79297483524216, 37.08507923714209, 33.35230399666735, 25.814447485154176, 20.224325022569495, 22.964061574895418, 23.87036265679118, 20.146768169080996, 14.59601050372459, 14.588133489589417, 41.008661928313046, 17.304711526788175, 15.463531599380135, 49.064235232847835, 13.568999755405397, 11.745028866005994, 14.44262939676822, 10.823095396525403, 12.619032786401176, 13.507100241437218, 11.698772656094421, 10.783281464458296, 20.619172247251772, 22.404809166257852, 8.959631831228334, 9.849732089258874, 10.739932934779358, 8.94753638049929, 18.739067300478474, 15.181237877207815, 11.626952408524797, 97.6853053774319, 49.28285161564827, 32.294840970577916, 20.93118840308124, 41.02631542267261, 22.89614552548208, 15.820381704798212, 29.005368054012134, 38.20223976889267, 26.720843696303998, 19.163541829563844, 43.04227897970404, 51.27101871654323, 19.108596108117688, 61.159738984754064, 20.191026664657358, 32.19596580720468, 25.86946494341487, 21.55734942673671, 23.961515196130087, 22.164757511375065, 20.731343673249533], \"Total\": [105.0, 50.0, 49.0, 50.0, 43.0, 52.0, 42.0, 37.0, 65.0, 33.0, 143.0, 52.0, 47.0, 116.0, 34.0, 39.0, 26.0, 24.0, 23.0, 35.0, 34.0, 39.0, 23.0, 33.0, 20.0, 48.0, 20.0, 30.0, 28.0, 21.0, 39.18429417293536, 28.922874963768084, 24.259087261306185, 22.39308988090715, 24.25955227658265, 25.19266001663146, 21.46045114107736, 24.2596745539759, 30.791189744968605, 34.52363679515942, 23.32709704813114, 33.59132356415801, 22.39429433194422, 35.457832651969, 19.59519927483036, 17.7293925782253, 18.66279458205023, 16.796585246124536, 19.596055686443453, 52.25693321163064, 18.663217565155744, 15.864091447026142, 13.997938486175565, 22.396803692111245, 23.330613654969103, 17.731303574581226, 13.998567941607154, 13.998577943548636, 65.32714561226271, 16.79856132173135, 39.196982372217995, 20.532752345714144, 24.26944906548445, 143.88345518309245, 116.77669464760031, 34.54943658567766, 21.467931480355396, 185.38150974899705, 31.756817373481528, 112.29801280386917, 58.94552174579721, 64.58626911843957, 116.24242508075909, 40.21267854995932, 53.345326362010105, 33.64950292451128, 63.72073828366949, 60.90096119278832, 32.71655114709463, 28.968141567872838, 43.08055176602876, 34.61999170816375, 38.396895247875754, 28.029923830831024, 49.04896251069313, 50.934679284254116, 43.3878292110357, 37.72714002972428, 33.95415226594871, 26.407376805428736, 20.74799956783373, 23.577070044659763, 24.520013871804387, 20.747135616977108, 15.088196377674747, 15.088108137678073, 42.435074273416596, 17.916919834710864, 16.030709771059556, 50.92045583149484, 14.143900931972942, 12.257883540559028, 15.086483829187031, 11.314763406714187, 13.200468208614264, 14.143209868702844, 12.257365944800714, 11.314317375847375, 21.685226824934187, 23.570820845492424, 9.428302711096174, 10.37106718974032, 11.313835474979363, 9.42816765339638, 19.79858265837036, 16.027555608513527, 12.256563960162126, 105.56723088177604, 52.78853713397802, 34.87516431257541, 22.621534162359737, 47.099363749077725, 25.441948792546803, 16.967516319581403, 34.838400743250126, 48.93344788093994, 32.947237175084204, 21.668966829904036, 62.04699694037631, 116.24242508075909, 23.533990472070336, 185.38150974899705, 27.277357206534724, 112.29801280386917, 63.72073828366949, 35.68799188128692, 60.90096119278832, 45.95578888348503, 36.611581322971205], \"Category\": [\"Default\", \"Default\", \"Default\", \"Default\", \"Default\", \"Default\", \"Default\", \"Default\", \"Default\", \"Default\", \"Default\", \"Default\", \"Default\", \"Default\", \"Default\", \"Default\", \"Default\", \"Default\", \"Default\", \"Default\", \"Default\", \"Default\", \"Default\", \"Default\", \"Default\", \"Default\", \"Default\", \"Default\", \"Default\", \"Default\", \"Topic1\", \"Topic1\", \"Topic1\", \"Topic1\", \"Topic1\", \"Topic1\", \"Topic1\", \"Topic1\", \"Topic1\", \"Topic1\", \"Topic1\", \"Topic1\", \"Topic1\", \"Topic1\", \"Topic1\", \"Topic1\", \"Topic1\", \"Topic1\", \"Topic1\", \"Topic1\", \"Topic1\", \"Topic1\", \"Topic1\", \"Topic1\", \"Topic1\", \"Topic1\", \"Topic1\", \"Topic1\", \"Topic1\", \"Topic1\", \"Topic1\", \"Topic1\", \"Topic1\", \"Topic1\", \"Topic1\", \"Topic1\", \"Topic1\", \"Topic1\", \"Topic1\", \"Topic1\", \"Topic1\", \"Topic1\", \"Topic1\", \"Topic1\", \"Topic1\", \"Topic1\", \"Topic1\", \"Topic1\", \"Topic1\", \"Topic1\", \"Topic1\", \"Topic1\", \"Topic1\", \"Topic1\", \"Topic2\", \"Topic2\", \"Topic2\", \"Topic2\", \"Topic2\", \"Topic2\", \"Topic2\", \"Topic2\", \"Topic2\", \"Topic2\", \"Topic2\", \"Topic2\", \"Topic2\", \"Topic2\", \"Topic2\", \"Topic2\", \"Topic2\", \"Topic2\", \"Topic2\", \"Topic2\", \"Topic2\", \"Topic2\", \"Topic2\", \"Topic2\", \"Topic2\", \"Topic2\", \"Topic2\", \"Topic2\", \"Topic2\", \"Topic2\", \"Topic2\", \"Topic2\", \"Topic2\", \"Topic2\", \"Topic2\", \"Topic2\", \"Topic2\", \"Topic2\", \"Topic2\", \"Topic2\", \"Topic2\", \"Topic2\", \"Topic2\", \"Topic2\", \"Topic2\", \"Topic2\", \"Topic2\", \"Topic2\", \"Topic2\", \"Topic2\", \"Topic2\", \"Topic2\", \"Topic2\", \"Topic2\", \"Topic2\"], \"logprob\": [30.0, 29.0, 28.0, 27.0, 26.0, 25.0, 24.0, 23.0, 22.0, 21.0, 20.0, 19.0, 18.0, 17.0, 16.0, 15.0, 14.0, 13.0, 12.0, 11.0, 10.0, 9.0, 8.0, 7.0, 6.0, 5.0, 4.0, 3.0, 2.0, 1.0, -4.6929, -5.0001, -5.1804, -5.2608, -5.1822, -5.1446, -5.3051, -5.1826, -4.9444, -4.8305, -5.2237, -4.8599, -5.2657, -4.8067, -5.4001, -5.5023, -5.4523, -5.5581, -5.4041, -4.4247, -5.4544, -5.619, -5.7455, -5.2759, -5.2375, -5.5122, -5.7497, -5.7497, -4.2099, -5.5689, -4.7224, -5.3735, -5.2198, -3.5325, -3.7308, -4.9007, -5.3372, -3.5255, -5.0122, -3.9643, -4.5859, -4.5467, -4.1736, -4.9094, -4.7176, -5.0312, -4.7139, -4.7383, -5.0652, -5.152, -5.023, -5.1223, -5.1346, -5.1708, -4.234, -4.1977, -4.36, -4.5032, -4.6093, -4.8655, -5.1095, -4.9825, -4.9438, -5.1134, -5.4357, -5.4362, -4.4026, -5.2654, -5.3779, -4.2233, -5.5086, -5.653, -5.4462, -5.7347, -5.5812, -5.5132, -5.6569, -5.7384, -5.0902, -5.0071, -5.9237, -5.829, -5.7424, -5.925, -5.1858, -5.3964, -5.6631, -3.5347, -4.2188, -4.6415, -5.0752, -4.4022, -4.9854, -5.3551, -4.7489, -4.4735, -4.831, -5.1634, -4.3542, -4.1793, -5.1663, -4.0029, -5.1112, -4.6446, -4.8634, -5.0457, -4.94, -5.0179, -5.0848], \"loglift\": [30.0, 29.0, 28.0, 27.0, 26.0, 25.0, 24.0, 23.0, 22.0, 21.0, 20.0, 19.0, 18.0, 17.0, 16.0, 15.0, 14.0, 13.0, 12.0, 11.0, 10.0, 9.0, 8.0, 7.0, 6.0, 5.0, 4.0, 3.0, 2.0, 1.0, 0.5706, 0.5671, 0.5626, 0.5622, 0.5608, 0.5607, 0.5605, 0.5604, 0.5602, 0.5597, 0.5585, 0.5576, 0.5573, 0.5568, 0.5564, 0.5543, 0.553, 0.5526, 0.5524, 0.551, 0.5508, 0.5488, 0.5474, 0.547, 0.5445, 0.5443, 0.5432, 0.5431, 0.5425, 0.5416, 0.5408, 0.5363, 0.5228, 0.4303, 0.4408, 0.4888, 0.5281, 0.1839, 0.4615, 0.2464, 0.2693, 0.2171, 0.0025, 0.3282, 0.2375, 0.3846, 0.0634, 0.0843, 0.3788, 0.4136, 0.1457, 0.2651, 0.1493, 0.4277, 0.805, 0.8036, 0.8016, 0.7982, 0.7975, 0.7927, 0.7898, 0.7891, 0.7885, 0.786, 0.7822, 0.7817, 0.7812, 0.7806, 0.7794, 0.7783, 0.7739, 0.7727, 0.7718, 0.771, 0.7704, 0.7694, 0.7688, 0.7673, 0.765, 0.7647, 0.7644, 0.7638, 0.7633, 0.7631, 0.7604, 0.7612, 0.7627, 0.7378, 0.7467, 0.7385, 0.7377, 0.6774, 0.71, 0.7454, 0.6322, 0.5678, 0.6059, 0.6925, 0.4497, -0.0032, 0.6071, -0.2935, 0.5146, -0.4339, -0.086, 0.3113, -0.1174, 0.0862, 0.2467]}, \"token.table\": {\"Topic\": [1, 2, 1, 2, 1, 2, 1, 2, 1, 2, 1, 2, 1, 2, 1, 2, 1, 2, 1, 2, 1, 2, 1, 2, 1, 2, 1, 2, 1, 2, 1, 2, 1, 2, 1, 2, 1, 2, 1, 2, 1, 2, 1, 2, 1, 2, 1, 2, 1, 2, 1, 2, 1, 2, 1, 2, 1, 2, 1, 2, 1, 2, 1, 2, 1, 2, 1, 2, 1, 2, 2, 1, 2, 1, 2, 1, 2, 2, 1, 2, 1, 2, 1, 2, 1, 2, 1, 2, 1, 2, 1, 2, 1, 2, 1, 2, 1, 2, 1, 2, 1, 2, 1, 2, 1, 2, 1, 2, 1, 2, 1, 2, 1, 2, 1, 2, 1, 2, 1, 2, 1, 2, 1, 2, 1, 2, 2, 1, 2, 1, 2, 1, 2, 1, 2, 1, 2, 1, 2, 1, 2, 1, 2, 1, 2, 1, 2, 1, 2, 1, 2, 1, 2, 1, 1, 2, 1, 2, 1, 2, 1, 2, 1, 2, 1, 2, 1, 2, 2, 1, 2, 1, 2, 1, 2, 1, 2, 1, 2, 1, 2, 1, 2, 1, 2, 1, 2, 1, 2, 1, 2, 1, 2, 1, 2, 1, 2, 1, 2, 1, 2], \"Freq\": [0.08602110009036573, 0.9175584009639011, 0.7709011465497455, 0.2238100102886358, 0.08158893497805174, 0.9790672197366209, 0.649945250285291, 0.34818495550997736, 0.7123398166528364, 0.29993255438014166, 0.668890873571445, 0.3290511555472431, 0.037868206576066404, 0.9845733709777266, 0.5963521613769301, 0.408030426205268, 0.9952967336320517, 0.025520429067488505, 0.9525745718875608, 0.05953591074297255, 0.60754377722993, 0.39408245009508974, 0.9643770504519659, 0.045922716688188855, 0.9823930896816971, 0.04465423134916805, 0.1821093516313835, 0.8194920823412258, 0.12739025588466657, 0.8705000818785549, 0.854858537025552, 0.1459514575409479, 0.08158359671265068, 0.9790031605518082, 0.9923525337735566, 0.039694101350942264, 0.0623925459643278, 0.9358881894649169, 0.8321073884156541, 0.17830872608906875, 0.11791549556450831, 0.904018799327897, 0.9587563558705526, 0.0563974326982678, 0.05893614487619191, 0.9429783180190705, 0.9893010277509041, 0.04122087615628767, 0.9644857805653768, 0.053582543364743156, 0.08838359105381785, 0.9722195015919964, 0.8284963653525236, 0.1726034094484424, 0.05581316483108201, 0.9488238021283941, 0.09642209251033104, 0.9642209251033104, 0.07575488870519209, 0.9848135531674972, 0.9696252502216254, 0.05103290790640134, 0.9694623846077909, 0.05102433603198899, 0.0203877910726856, 0.9990017625615943, 0.08838735565949389, 0.9722609122544328, 0.16996692527546992, 0.8073428950584821, 0.9941546109642869, 0.13844684075384162, 0.8768299914409968, 0.9588596972509301, 0.05640351160299589, 0.172223749425768, 0.8324147888912121, 0.9545726601891871, 0.06628449752256733, 0.9279829653159427, 0.0757740262786208, 0.9282318219131047, 0.7221261117201464, 0.2599654002192527, 0.9287081817682558, 0.07143909090525044, 0.04611434356085113, 0.9684012147778737, 0.9644639214626115, 0.05358132897014508, 0.9893199913700201, 0.041221666307084175, 0.9822830213825998, 0.04464922824466363, 0.825270361738533, 0.183393413719674, 0.9455316145956708, 0.06303544097304473, 0.8648986024547963, 0.13701363999283903, 0.9859778073775646, 0.04286860032076368, 0.9823965387065321, 0.029769592082016124, 0.019632989037179208, 0.9816494518589605, 0.062380269762310384, 0.9357040464346558, 0.029451478928627556, 0.9718988046447095, 0.02304793805507213, 0.9910613363681017, 0.9892960413216533, 0.041220668388402215, 0.9759470536370687, 0.03827243347596348, 0.6967425215021805, 0.309663342889858, 0.958885455118531, 0.028202513385839144, 0.9316221275580904, 0.046581106377904524, 0.04819741762238761, 0.9639483524477522, 0.8817004446856613, 0.12595720638366592, 0.9545863343613604, 0.0707053073017657, 0.98987430222472, 0.22479511410608385, 0.7765649396391987, 0.9743046711893331, 0.03247682237297777, 0.04078301118540157, 0.9787922684496377, 0.04819942465608183, 0.9639884931216367, 0.07070185267909038, 0.9898259375072652, 0.9785442003035988, 0.046597342871599945, 0.7294871387420687, 0.2714370748807698, 0.9848325134960046, 0.028965662161647195, 0.9695828744324397, 0.051030677601707354, 0.559176221201867, 0.4387382658660803, 0.9476935359323901, 0.04120406677966913, 0.0757810916624226, 0.9283183728646769, 0.9680918662157832, 0.039276946118046704, 0.9622851798921442, 0.9286664217531018, 0.07143587859639244, 0.02650611732593896, 0.9807263410597414, 0.39228881374356434, 0.6164538501684582, 0.9824459293917135, 0.9941604250927888, 0.8562277994348889, 0.14270463323914817, 0.3062194938823217, 0.6930230651020965, 0.9721811764506356, 0.4370201838280369, 0.5735889912742985, 0.7123901661529993, 0.2849560664611997, 0.256623101241019, 0.7332088606886258, 0.5222410621836762, 0.47872097366836985, 0.9740535347261738, 0.048702676736308695, 0.8972649936888097, 0.08683209616343321, 0.04241409123804598, 0.9755240984750575, 0.023565411799607687, 0.9661818837839151, 0.08158015180118071, 0.9789618216141686, 0.9524625170907765, 0.05952890731817353, 0.9429670528753666, 0.042862138767062116, 0.08841133345093038, 0.9283190012347691, 0.05050866606237716, 0.9596646551851661, 0.04242533624751704, 0.9333573974453749, 0.9286657582237602, 0.07143582755567386, 0.651094309542725, 0.364612813343926], \"Term\": [\"amazon\", \"amazon\", \"as\\u00ed\", \"as\\u00ed\", \"aun\", \"aun\", \"aunque\", \"aunque\", \"bastante\", \"bastante\", \"bien\", \"bien\", \"bonita\", \"bonita\", \"bonito\", \"bonito\", \"bonitos\", \"bonitos\", \"botones\", \"botones\", \"buen\", \"buen\", \"buena\", \"buena\", \"cable\", \"cable\", \"cadena\", \"cadena\", \"caja\", \"caja\", \"calidad\", \"calidad\", \"casa\", \"casa\", \"colgante\", \"colgante\", \"collar\", \"collar\", \"compra\", \"compra\", \"comprar\", \"comprar\", \"correcto\", \"correcto\", \"cosa\", \"cosa\", \"cumple\", \"cumple\", \"da\", \"da\", \"deja\", \"deja\", \"demasiado\", \"demasiado\", \"dem\\u00e1s\", \"dem\\u00e1s\", \"devuelto\", \"devuelto\", \"dinero\", \"dinero\", \"dise\\u00f1o\", \"dise\\u00f1o\", \"dos\", \"dos\", \"d\\u00eda\", \"d\\u00eda\", \"encant\\u00f3\", \"encant\\u00f3\", \"entrega\", \"entrega\", \"entregado\", \"env\\u00edo\", \"env\\u00edo\", \"espa\\u00f1ol\", \"espa\\u00f1ol\", \"esperaba\", \"esperaba\", \"esperando\", \"fina\", \"fina\", \"foto\", \"foto\", \"funciona\", \"funciona\", \"funda\", \"funda\", \"gracias\", \"gracias\", \"gran\", \"gran\", \"grandes\", \"grandes\", \"gusta\", \"gusta\", \"gustado\", \"gustado\", \"hijo\", \"hijo\", \"juego\", \"juego\", \"juegos\", \"juegos\", \"jugar\", \"jugar\", \"llegado\", \"llegado\", \"llegar\", \"llegar\", \"llego\", \"llego\", \"lleg\\u00f3\", \"lleg\\u00f3\", \"mala\", \"mala\", \"mando\", \"mando\", \"mas\", \"mas\", \"mejor\", \"mejor\", \"momento\", \"momento\", \"nunca\", \"nunca\", \"original\", \"original\", \"pandora\", \"paquete\", \"paquete\", \"parece\", \"parece\", \"parte\", \"parte\", \"pedido\", \"pedido\", \"pedir\", \"pedir\", \"ped\\u00ed\", \"ped\\u00ed\", \"peque\\u00f1os\", \"peque\\u00f1os\", \"perfecto\", \"perfecto\", \"plata\", \"plata\", \"poner\", \"poner\", \"precio\", \"precio\", \"problema\", \"problema\", \"producto\", \"producto\", \"ps\", \"puede\", \"puede\", \"puedes\", \"puedes\", \"pulsera\", \"pulsera\", \"queda\", \"queda\", \"quedan\", \"recibido\", \"recomiendo\", \"recomiendo\", \"regalo\", \"regalo\", \"rota\", \"ser\", \"ser\", \"si\", \"si\", \"sido\", \"sido\", \"solo\", \"solo\", \"switch\", \"switch\", \"tama\\u00f1o\", \"tama\\u00f1o\", \"tan\", \"tan\", \"tiempo\", \"tiempo\", \"todav\\u00eda\", \"todav\\u00eda\", \"trae\", \"trae\", \"uso\", \"uso\", \"va\", \"va\", \"vendedor\", \"vendedor\", \"verdad\", \"verdad\", \"versi\\u00f3n\", \"versi\\u00f3n\", \"viene\", \"viene\"]}, \"R\": 30, \"lambda.step\": 0.01, \"plot.opts\": {\"xlab\": \"PC1\", \"ylab\": \"PC2\"}, \"topic.order\": [2, 1]};\n",
       "\n",
       "function LDAvis_load_lib(url, callback){\n",
       "  var s = document.createElement('script');\n",
       "  s.src = url;\n",
       "  s.async = true;\n",
       "  s.onreadystatechange = s.onload = callback;\n",
       "  s.onerror = function(){console.warn(\"failed to load library \" + url);};\n",
       "  document.getElementsByTagName(\"head\")[0].appendChild(s);\n",
       "}\n",
       "\n",
       "if(typeof(LDAvis) !== \"undefined\"){\n",
       "   // already loaded: just create the visualization\n",
       "   !function(LDAvis){\n",
       "       new LDAvis(\"#\" + \"ldavis_el1991403639641643047355980380\", ldavis_el1991403639641643047355980380_data);\n",
       "   }(LDAvis);\n",
       "}else if(typeof define === \"function\" && define.amd){\n",
       "   // require.js is available: use it to load d3/LDAvis\n",
       "   require.config({paths: {d3: \"https://d3js.org/d3.v5\"}});\n",
       "   require([\"d3\"], function(d3){\n",
       "      window.d3 = d3;\n",
       "      LDAvis_load_lib(\"https://cdn.jsdelivr.net/gh/bmabey/pyLDAvis@3.3.1/pyLDAvis/js/ldavis.v3.0.0.js\", function(){\n",
       "        new LDAvis(\"#\" + \"ldavis_el1991403639641643047355980380\", ldavis_el1991403639641643047355980380_data);\n",
       "      });\n",
       "    });\n",
       "}else{\n",
       "    // require.js not available: dynamically load d3 & LDAvis\n",
       "    LDAvis_load_lib(\"https://d3js.org/d3.v5.js\", function(){\n",
       "         LDAvis_load_lib(\"https://cdn.jsdelivr.net/gh/bmabey/pyLDAvis@3.3.1/pyLDAvis/js/ldavis.v3.0.0.js\", function(){\n",
       "                 new LDAvis(\"#\" + \"ldavis_el1991403639641643047355980380\", ldavis_el1991403639641643047355980380_data);\n",
       "            })\n",
       "         });\n",
       "}\n",
       "</script>"
      ],
      "text/plain": [
       "<IPython.core.display.HTML object>"
      ]
     },
     "execution_count": 7,
     "metadata": {
      "tags": []
     },
     "output_type": "execute_result"
    }
   ],
   "source": [
    "lda_display=pyLDAvis.gensim_models.prepare(model, corpus, dictionary, sort_topics=True)\n",
    "pyLDAvis.display(lda_display)"
   ]
  },
  {
   "cell_type": "markdown",
   "metadata": {
    "id": "K39BzesSzZUa"
   },
   "source": [
    "###  Pruebas"
   ]
  },
  {
   "cell_type": "code",
   "execution_count": 8,
   "metadata": {
    "colab": {
     "base_uri": "https://localhost:8080/"
    },
    "id": "DJIJNeYeeVhz",
    "outputId": "745bc70c-e75c-41b5-da0d-2789459d7171"
   },
   "outputs": [
    {
     "data": {
      "text/plain": [
       "[(1, 0.19133723), (2, 0.8086628)]"
      ]
     },
     "execution_count": 8,
     "metadata": {
      "tags": []
     },
     "output_type": "execute_result"
    }
   ],
   "source": [
    "d = dictionary.doc2bow([\"bailar\", \"rapido\", \"brillo\"])\n",
    "topics = [(cluster[0]+1, cluster[1]) for cluster in model.get_document_topics(d)]\n",
    "topics"
   ]
  }
 ],
 "metadata": {
  "colab": {
   "name": "Taller-9.ipynb",
   "provenance": [],
   "toc_visible": true
  },
  "kernelspec": {
   "display_name": "Python 3",
   "language": "python",
   "name": "python3"
  },
  "language_info": {
   "codemirror_mode": {
    "name": "ipython",
    "version": 3
   },
   "file_extension": ".py",
   "mimetype": "text/x-python",
   "name": "python",
   "nbconvert_exporter": "python",
   "pygments_lexer": "ipython3",
   "version": "3.8.5"
  }
 },
 "nbformat": 4,
 "nbformat_minor": 1
}
